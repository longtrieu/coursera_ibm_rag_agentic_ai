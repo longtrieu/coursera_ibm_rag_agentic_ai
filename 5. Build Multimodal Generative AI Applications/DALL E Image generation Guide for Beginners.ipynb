{
 "cells": [
  {
   "cell_type": "markdown",
   "id": "62fa35de-e3da-4786-ae6e-c0ed689319ad",
   "metadata": {},
   "source": [
    "<p style=\"text-align:center\">\n",
    "    <a href=\"https://skills.network\" target=\"_blank\">\n",
    "    <img src=\"https://cf-courses-data.s3.us.cloud-object-storage.appdomain.cloud/assets/logos/SN_web_lightmode.png\" width=\"200\" alt=\"Skills Network Logo\"  />\n",
    "    </a>\n",
    "</p>\n"
   ]
  },
  {
   "cell_type": "markdown",
   "id": "2bff809f-964c-4a43-a3ff-f7af922ba957",
   "metadata": {},
   "source": [
    "# <a id='toc1_'></a>[DALL-E: Image generation Guide for Beginners](#toc0_)\n"
   ]
  },
  {
   "cell_type": "markdown",
   "id": "0f8eec47-2488-4504-9315-68f01592601d",
   "metadata": {},
   "source": [
    "<h3 id=\"Installing-required-libraries\"><a href=\"#Table-of-Contents\">Installing required libraries</a></h3>\n",
    "\n",
    "\n",
    "The following required libraries are __not__ pre-installed in the Skills Network Labs environment. __You must run the following cell__ to install them. Please wait until it completes.\n",
    "\n",
    "This step could take **several minutes**, please be patient.\n",
    "\n",
    "**NOTE**: To prevent any issues, after installing the below libraries, please restart the kernel and skip to the next cell.  You can do that by clicking the **Restart the kernel** icon.\n",
    "\n",
    "<img src=\"https://cf-courses-data.s3.us.cloud-object-storage.appdomain.cloud/crvBKBOkg9aBzXZiwGEXbw/Restarting-the-Kernel.png\" width=\"100%\" alt=\"Restart kernel\">\n"
   ]
  },
  {
   "cell_type": "code",
   "execution_count": null,
   "id": "f5d7022e-e24c-47e5-9e13-fb4e33f1421d",
   "metadata": {},
   "outputs": [],
   "source": [
    "%pip install openai==1.64.0 | tail -n 1"
   ]
  },
  {
   "cell_type": "markdown",
   "id": "52c89b5d-f469-40df-86a7-056206c8cb90",
   "metadata": {},
   "source": [
    "<h2 id=\"Exercises\"><a href=\"#Table-of-Contents\">Exercises</a></h2>\n",
    "\n",
    "<h3 id=\"Exercise-1:-Generate-another-image-using-Dall-E-2\"><a href=\"#Table-of-Contents\">Exercise 1: Generate another image using Dall-E 2</a></h3>\n",
    "\n",
    "\n",
    "Please generate another image using DALL·E 2.\n",
    "\n",
    "Please use the following prompt: \"a beautiful lake with a sunset\"\n"
   ]
  },
  {
   "cell_type": "code",
   "execution_count": null,
   "id": "41d6b992-5888-4417-b378-b777e9b774f2",
   "metadata": {},
   "outputs": [],
   "source": [
    "from openai import OpenAI\n",
    "from IPython import display\n",
    "\n",
    "client = OpenAI()\n",
    "\n",
    "response = client.images.generate(\n",
    "    model=\"dall-e-2\",\n",
    "    prompt=\"a beautiful lake with a sunset\",\n",
    "    size=\"1024x1024\",\n",
    "    n=1,\n",
    ")\n",
    "\n",
    "url = response.data[0].url\n",
    "display.Image(url=url, width=512)"
   ]
  },
  {
   "cell_type": "markdown",
   "id": "acaded80-19c4-483d-9cb9-fc87c2595fc6",
   "metadata": {},
   "source": [
    "<h3 id=\"Exercise-2:-Generate-another-image-using-Dall-E-3\"><a href=\"#Table-of-Contents\">Exercise 2: Generate another image using Dall-E 3</a></h3>\n",
    "\n",
    "\n",
    "Please generate another image using DALL·E 3.\n",
    "\n",
    "Please use the following prompt: \"a beautiful lake with a sunset\"\n"
   ]
  },
  {
   "cell_type": "code",
   "execution_count": null,
   "id": "f4017d02-f3db-4468-a9b6-7b5c534ee58e",
   "metadata": {},
   "outputs": [],
   "source": [
    "from openai import OpenAI\n",
    "from IPython import display\n",
    "\n",
    "client = OpenAI()\n",
    "\n",
    "response = client.images.generate(\n",
    "    model=\"dall-e-3\",\n",
    "    prompt=\"a beautiful lake with a sunset\",\n",
    "    size=\"1024x1024\",\n",
    "    quality=\"standard\",\n",
    "    n=1,\n",
    ")\n",
    "\n",
    "url = response.data[0].url\n",
    "display.Image(url=url, width=512)"
   ]
  },
  {
   "cell_type": "markdown",
   "id": "89f375c2-2e3d-402c-9ab2-365f1f48d436",
   "metadata": {},
   "source": [
    "Copyright © IBM Corporation. All rights reserved.\n"
   ]
  }
 ],
 "metadata": {
  "kernelspec": {
   "display_name": "Python 3 (ipykernel)",
   "language": "python",
   "name": "python3"
  },
  "language_info": {
   "codemirror_mode": {
    "name": "ipython",
    "version": 3
   },
   "file_extension": ".py",
   "mimetype": "text/x-python",
   "name": "python",
   "nbconvert_exporter": "python",
   "pygments_lexer": "ipython3",
   "version": "3.12.8"
  },
  "prev_pub_hash": "190faf1c9586fa43c13f61ab1121c384f620618d80c85ee63e355e31ede2801c"
 },
 "nbformat": 4,
 "nbformat_minor": 4
}
