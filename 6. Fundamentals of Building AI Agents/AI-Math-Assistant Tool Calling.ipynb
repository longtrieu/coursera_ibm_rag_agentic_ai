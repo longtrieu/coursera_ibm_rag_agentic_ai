{
 "cells": [
  {
   "cell_type": "markdown",
   "id": "9e7a668e-5f6f-4ad1-bd91-ed129b3db218",
   "metadata": {},
   "source": [
    "<p style=\"text-align:center\">\n",
    "    <a href=\"https://skills.network\" target=\"_blank\">\n",
    "    <img src=\"https://cf-courses-data.s3.us.cloud-object-storage.appdomain.cloud/assets/logos/SN_web_lightmode.png\" width=\"200\" alt=\"Skills Network Logo\"  />\n",
    "    </a>\n",
    "</p>\n"
   ]
  },
  {
   "cell_type": "markdown",
   "id": "ae81f967-5ae2-492e-b0ef-143dc6899ea9",
   "metadata": {},
   "source": [
    "# **Build an AI Math Assistant with LangChain Tool Calling**"
   ]
  },
  {
   "cell_type": "markdown",
   "id": "9e7d6caf-5e05-4756-a8e4-c5131bb139af",
   "metadata": {},
   "source": [
    "## Installing required libraries\n",
    "\n",
    "The following required libraries are __not__ pre-installed in the Skills Network Labs environment. __You will need to run the following cell__ to install them:\n"
   ]
  },
  {
   "cell_type": "code",
   "execution_count": null,
   "id": "60518275-5fec-498c-95ad-f7193b01deea",
   "metadata": {},
   "outputs": [],
   "source": [
    "%pip install langchain==0.3.23 | tail -n 1\n",
    "%pip install langchain-ibm==0.3.10 | tail -n 1\n",
    "%pip install langchain-community==0.3.16 | tail -n 1\n",
    "%pip install wikipedia==1.4.0 | tail -n 1\n",
    "%pip install openai==1.77.0 | tail -n 1\n",
    "%pip install langchain-openai==0.3.16 | tail -n 1"
   ]
  },
  {
   "cell_type": "markdown",
   "id": "b6ea83e1-075b-4ca4-8b0c-29b271ba0168",
   "metadata": {},
   "source": [
    "## Import the required libraries\n"
   ]
  },
  {
   "cell_type": "code",
   "execution_count": null,
   "id": "9fa49282-0bdf-4d3b-bc86-679f3a1a4f8a",
   "metadata": {},
   "outputs": [],
   "source": [
    "from langchain_ibm import ChatWatsonx\n",
    "from langchain.agents import AgentType\n",
    "import re"
   ]
  },
  {
   "cell_type": "markdown",
   "id": "19d5f066-ac43-4d7a-941a-0d3549e35dde",
   "metadata": {},
   "source": [
    "## Loading the LLM: Choosing the right language model\n",
    "\n",
    "In this example, IBM’s `ChatWatsonx`will be used to load a language model (LLM) for interacting with tools. IBM’s models, like Granite 3.2 and Granite 3.3, are highly versatile and excel at advanced reasoning tasks.\n",
    "\n",
    "That said, other providers offer LLMs with different strengths:\n",
    "\n",
    "- **OpenAI (GPT-4/GPT-3.5)**: Best for versatility and advanced reasoning.\n",
    "- **Facebook (Meta, LLaMA)**: Open-access, highly customizable for specialized use cases.\n",
    "- **IBM watsonx Granite**: Ideal for enterprise applications with seamless integration.\n",
    "- **Anthropic (Claude)**: Focused on safety, reliability, and ethical AI.\n",
    "- **Cohere**: Affordable and efficient for lightweight, task-specific models.\n",
    "\n",
    "---\n",
    "\n",
    "For this project, you'll use `ChatWatsonx` because:\n",
    "- It offers a simple API for quick setup.\n",
    "- It supports advanced configurations like:\n",
    "  - **`temperature`**: Adjusting randomness of responses.\n",
    "  - **`max_tokens`**: Limiting the length of responses.\n",
    "- IBM’s models are widely regarded as state-of-the-art for general-purpose reasoning and conversation.\n"
   ]
  },
  {
   "cell_type": "code",
   "execution_count": null,
   "id": "032e691f-34af-4cc0-bbbb-6e51c7a5eff8",
   "metadata": {},
   "outputs": [],
   "source": [
    "llm = ChatWatsonx(\n",
    "    model_id=\"ibm/granite-3-2-8b-instruct\",\n",
    "    url=\"https://us-south.ml.cloud.ibm.com\",\n",
    "    project_id=\"skills-network\",\n",
    ")"
   ]
  },
  {
   "cell_type": "markdown",
   "id": "e5cebaf2-1ec7-4466-ae1e-06f62054c931",
   "metadata": {},
   "source": [
    "Let's generate a simple response:\n"
   ]
  },
  {
   "cell_type": "code",
   "execution_count": null,
   "id": "4f762b5d-a5ce-46b5-aea6-66de8a331f44",
   "metadata": {},
   "outputs": [],
   "source": [
    "response = llm.invoke(\"What is tool calling in langchain?\")\n",
    "print(\"\\nResponse Content: \", response.content)"
   ]
  },
  {
   "cell_type": "markdown",
   "id": "7b66cd14-f37e-4b1f-a884-ab780fcb8661",
   "metadata": {},
   "source": [
    "### Running Locally\n",
    "\n",
    "If you are running this lab locally, you will need to configure your own API keys. This lab uses `ChatOpenAI` and `ChatWatsonx` modules from `langchain`. Both configurations are shown below with instructions. **Replace all instances** of both modules with the completed modules below throughout the lab. **DO NOT** run the cell below if you aren't running locally, it will causes errors.\n"
   ]
  },
  {
   "cell_type": "raw",
   "id": "3c90433a-ed0d-42d4-b62d-467111f7acee",
   "metadata": {},
   "source": [
    "# IGNORE IF YOU ARE NOT RUNNING LOCALLY\n",
    "\n",
    "from langchain_openai import ChatOpenAI\n",
    "from langchain_ibm import ChatWatsonx\n",
    "\n",
    "openai_llm = ChatOpenAI(\n",
    "    model=\"gpt-4.1-nano\",\n",
    "    api_key = \"your openai api key here\",\n",
    ")\n",
    "\n",
    "watsonx_llm = ChatWatsonx(\n",
    "    model_id=\"ibm/granite-3-2-8b-instruct\",\n",
    "    url=\"https://us-south.ml.cloud.ibm.com\",\n",
    "    project_id=\"your project id associated with the API key\",\n",
    "    api_key=\"your watsonx.ai api key here\",\n",
    ")"
   ]
  },
  {
   "cell_type": "markdown",
   "id": "74f50af5-6abc-4b82-b1aa-c5050c648a29",
   "metadata": {},
   "source": [
    "## **Exercise: Create a power tool to calculate exponents**\n",
    "\n",
    "#### **Objective**\n",
    "In this exercise, you will create a custom tool that calculates the power of a number (e.g., \\( x^y \\)). You will then integrate this tool into an agent and test its functionality.\n",
    "\n",
    "---\n",
    "\n",
    "#### **Step 1: Create the power tool**\n",
    "\n",
    "1. **Define the Tool Function**:\n",
    "   - Create a Python function named `calculate_power` that takes a string as input. The string will contain two numbers: the base (\\( x \\)) and the exponent (\\( y \\)).\n",
    "   - The function should extract the numbers, calculate \\( x^y \\), and return the result as a dictionary with the key `\"result\"`.\n"
   ]
  },
  {
   "cell_type": "code",
   "execution_count": null,
   "id": "8f07ce23-34df-4e7d-afa8-d4584e0fc1cd",
   "metadata": {},
   "outputs": [],
   "source": [
    "def calculate_power(input_text: str) -> dict:\n",
    "    \"\"\"\n",
    "    Calculates the power of a number (x^y).\n",
    "\n",
    "    Parameters:\n",
    "    - input_text (str): A string like \"2, 3\", \"2 3\", \"5^2\", or \"2 to the power of 3\".\n",
    "\n",
    "    Returns:\n",
    "    - dict: {\"result\": <calculated value>} or an error message.\n",
    "    \"\"\"\n",
    "    # Try to extract expressions like \"5^2\"\n",
    "    match = re.search(r\"(\\d+(?:\\.\\d+)?)\\s*\\^+\\s*(\\d+(?:\\.\\d+)?)\", input_text)\n",
    "    if match:\n",
    "        base = float(match.group(1))\n",
    "        exponent = float(match.group(2))\n",
    "        return {\"result\": base ** exponent}\n",
    "\n",
    "    # Try to extract expressions like \"2 to the power of 3\"\n",
    "    match = re.search(r\"(\\d+(?:\\.\\d+)?)\\s*(?:to\\s+the\\s+power\\s+of)\\s*(\\d+(?:\\.\\d+)?)\", input_text, re.IGNORECASE)\n",
    "    if match:\n",
    "        base = float(match.group(1))\n",
    "        exponent = float(match.group(2))\n",
    "        return {\"result\": base ** exponent}\n",
    "\n",
    "    # Fallback: assume two numbers separated by space or comma\n",
    "    try:\n",
    "        numbers = [float(num) for num in input_text.replace(\",\", \" \").split()]\n",
    "        if len(numbers) != 2:\n",
    "            return {\"result\": \"Invalid input. Please provide exactly two numbers.\"}\n",
    "        base, exponent = numbers\n",
    "        return {\"result\": base ** exponent}\n",
    "    except ValueError:\n",
    "        return {\"result\": \"Invalid input format. Provide input like '2 3', '2^3', or '2 to the power of 3'.\"}"
   ]
  },
  {
   "cell_type": "markdown",
   "id": "10c8daec-7bf0-4c4b-915b-1359f179c0a7",
   "metadata": {},
   "source": [
    "2. **Create the tool object**:\n",
    "   - Use the `Tool` class from LangChain to create a tool object for the `calculate_power` function.\n",
    "   - Provide a name, description, and the function to the tool.\n"
   ]
  },
  {
   "cell_type": "code",
   "execution_count": null,
   "id": "58e65d71-5851-4f71-b9df-8b2633f69ab6",
   "metadata": {},
   "outputs": [],
   "source": [
    "power_tool = Tool(\n",
    "   name=\"PowerTool\",\n",
    "   func=calculate_power,\n",
    "   description=\"Calculates the power of a number (x^y). Input should be two numbers: base and exponent.\"\n",
    ")"
   ]
  },
  {
   "cell_type": "markdown",
   "id": "f55eccb6-6f60-4bb0-ba37-897f014fa52f",
   "metadata": {},
   "source": [
    "#### **Step 2: Create an agent with the power tool**\n",
    "\n",
    "1. **Set up the agent**:\n",
    "   - Use the `initialize_agent` function from LangChain to create an agent.\n",
    "   - Include the `power_tool` in the list of tools provided to the agent.\n",
    "   - Specify the agent type (e.g., `zero-shot-react-description`).\n"
   ]
  },
  {
   "cell_type": "code",
   "execution_count": null,
   "id": "0b6d6e83-2a4c-4727-a4fd-e856b8453200",
   "metadata": {},
   "outputs": [],
   "source": [
    "# List of tools for the agent\n",
    "tools = [power_tool]\n",
    "\n",
    "# Create the agent\n",
    "agent = initialize_agent(\n",
    "   tools,\n",
    "   llm,\n",
    "   agent=AgentType.ZERO_SHOT_REACT_DESCRIPTION,\n",
    "   verbose=True,\n",
    "    handle_parsing_errors=True\n",
    ")"
   ]
  },
  {
   "cell_type": "markdown",
   "id": "bddbe7f7-0de8-4a4c-85f1-7d356dfebd7a",
   "metadata": {},
   "source": [
    "#### **Step 3: Test the agent**\n",
    "\n",
    "1. **Test the Agent Using the `run` Function**:\n",
    "   - Use the `run` function of the agent to test its ability to calculate powers.\n",
    "   - Pass natural language queries to the agent and observe its responses.\n"
   ]
  },
  {
   "cell_type": "code",
   "execution_count": null,
   "id": "de89e7ee-ea15-4322-ad2c-1c27f1722a61",
   "metadata": {},
   "outputs": [],
   "source": [
    "agent.run(\"Calculate 5 to the power of 2.\")"
   ]
  },
  {
   "cell_type": "markdown",
   "id": "4a5d3f7b-f860-4df8-9c3a-0aa4f584da42",
   "metadata": {},
   "source": [
    "Copyright © IBM Corporation. All rights reserved.\n"
   ]
  }
 ],
 "metadata": {
  "kernelspec": {
   "display_name": "Python 3 (ipykernel)",
   "language": "python",
   "name": "python3"
  },
  "language_info": {
   "codemirror_mode": {
    "name": "ipython",
    "version": 3
   },
   "file_extension": ".py",
   "mimetype": "text/x-python",
   "name": "python",
   "nbconvert_exporter": "python",
   "pygments_lexer": "ipython3",
   "version": "3.12.8"
  },
  "prev_pub_hash": "b5042e95bef5fa72bc867f799a516299072f56252cbdf79ce5cf2eed2e686540"
 },
 "nbformat": 4,
 "nbformat_minor": 4
}
