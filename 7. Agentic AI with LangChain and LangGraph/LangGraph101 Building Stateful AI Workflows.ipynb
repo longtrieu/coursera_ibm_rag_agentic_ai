{
 "cells": [
  {
   "cell_type": "markdown",
   "id": "8be6eb1b-ee2d-4df0-b70e-26f9a536edae",
   "metadata": {},
   "source": [
    "<p style=\"text-align:center\">\n",
    "    <a href=\"https://skills.network\" target=\"_blank\">\n",
    "    <img src=\"https://cf-courses-data.s3.us.cloud-object-storage.appdomain.cloud/assets/logos/SN_web_lightmode.png\" width=\"200\" alt=\"Skills Network Logo\"  />\n",
    "    </a>\n",
    "</p>\n"
   ]
  },
  {
   "cell_type": "markdown",
   "id": "b8e6319d-2e37-493b-b036-94dec790158e",
   "metadata": {},
   "source": [
    "# **LangGraph 101: Building Stateful AI Workflows**\n"
   ]
  },
  {
   "cell_type": "markdown",
   "id": "581ab75a-9192-40dd-a06b-cdf96ff28259",
   "metadata": {},
   "source": [
    "### Installing Required Libraries\n"
   ]
  },
  {
   "cell_type": "markdown",
   "id": "2014a842-c860-458a-b65b-1d733a516aa5",
   "metadata": {},
   "source": [
    "The following required libraries are __not__ pre-installed in the Skills Network Labs environment. __You will need to run the following cell__ to install them:\n"
   ]
  },
  {
   "cell_type": "code",
   "execution_count": null,
   "id": "193ac84b-7de9-41f0-8b95-f964f82ec4a4",
   "metadata": {},
   "outputs": [],
   "source": [
    "%pip install -q langgraph==0.2.57 langchain-ibm==0.3.10"
   ]
  },
  {
   "cell_type": "markdown",
   "id": "c531ac05-dd22-4a26-a9e5-a2d5ec77dd8e",
   "metadata": {},
   "source": [
    "### Importing Required Libraries\n"
   ]
  },
  {
   "cell_type": "code",
   "execution_count": null,
   "id": "57d05e80-55df-44db-b78f-023623d44ff4",
   "metadata": {},
   "outputs": [],
   "source": [
    "from langgraph.graph import StateGraph"
   ]
  },
  {
   "cell_type": "code",
   "execution_count": null,
   "id": "cd789257-3086-4e81-bafa-20a8b21f0852",
   "metadata": {},
   "outputs": [],
   "source": [
    "from typing import TypedDict, Optional\n",
    "\n",
    "class AuthState(TypedDict):\n",
    "    username: Optional[str]\n",
    "    password: Optional[str]\n",
    "    is_authenticated: Optional[bool]\n",
    "    output: Optional[str]"
   ]
  },
  {
   "cell_type": "code",
   "execution_count": null,
   "id": "e446a6e0-06af-4ce0-8341-c31fe980b431",
   "metadata": {},
   "outputs": [],
   "source": [
    "def input_node(state):\n",
    "    print(state)\n",
    "    if state.get('username', \"\") ==\"\":\n",
    "        state['username'] = input(\"What is your username?\")\n",
    "\n",
    "    password = input(\"Enter your password: \")\n",
    "\n",
    "    return {\"password\":password}"
   ]
  },
  {
   "cell_type": "code",
   "execution_count": null,
   "id": "620de228-537c-48fd-a045-afbd768b4d9f",
   "metadata": {},
   "outputs": [],
   "source": [
    "def validate_credentials_node(state):\n",
    "    # Extract username and password from the state\n",
    "    username = state.get(\"username\", \"\")\n",
    "    password = state.get(\"password\", \"\")\n",
    "\n",
    "    print(\"Username :\", username, \"Password :\", password)\n",
    "    # Simulated credential validation\n",
    "    if username == \"test_user\" and password == \"secure_password\":\n",
    "        is_authenticated = True\n",
    "    else:\n",
    "        is_authenticated = False\n",
    "\n",
    "    # Return the updated state with authentication result\n",
    "    return {\"is_authenticated\": is_authenticated}"
   ]
  },
  {
   "cell_type": "code",
   "execution_count": null,
   "id": "dbc67404-b65a-496a-8863-801304c6f831",
   "metadata": {},
   "outputs": [],
   "source": [
    "auth_state_3: AuthState = {\n",
    "    \"username\":\"test_user\",\n",
    "    \"password\":  \"secure_password\",\n",
    "    \"is_authenticated\": False,\n",
    "    \"output\": \"Authentication failed. Please try again.\"\n",
    "}\n",
    "print(f\"auth_state_3: {auth_state_3}\")"
   ]
  },
  {
   "cell_type": "code",
   "execution_count": null,
   "id": "0d47398a-cd3e-45af-9611-6ff2b665f36d",
   "metadata": {},
   "outputs": [],
   "source": [
    "# Define the success node\n",
    "def success_node(state):\n",
    "    return {\"output\": \"Authentication successful! Welcome.\"}"
   ]
  },
  {
   "cell_type": "code",
   "execution_count": null,
   "id": "de378b0e-5c8e-4937-b65d-ff4bcaf3a2c0",
   "metadata": {},
   "outputs": [],
   "source": [
    "# Define the failure node\n",
    "def failure_node(state):\n",
    "    return {\"output\": \"Not Successfull, please try again!\"}"
   ]
  },
  {
   "cell_type": "code",
   "execution_count": null,
   "id": "bd155764-3ac3-4470-b808-9d795eabe2e9",
   "metadata": {},
   "outputs": [],
   "source": [
    "def router(state):\n",
    "    if state['is_authenticated']:\n",
    "        return \"success_node\"\n",
    "    else:\n",
    "        return \"failure_node\""
   ]
  },
  {
   "cell_type": "markdown",
   "id": "655ba964-02d0-4978-bedb-f7fa7fda5af6",
   "metadata": {},
   "source": [
    "#### Creating the Graph  \n"
   ]
  },
  {
   "cell_type": "code",
   "execution_count": null,
   "id": "bccd3ec2-ca67-42af-aa3e-e60cb38bd305",
   "metadata": {},
   "outputs": [],
   "source": [
    "from langgraph.graph import StateGraph\n",
    "from langgraph.graph import END\n",
    "\n",
    "# Create an instance of StateGraph with the GraphState structure\n",
    "workflow = StateGraph(AuthState)\n",
    "workflow"
   ]
  },
  {
   "cell_type": "markdown",
   "id": "06c9a1ca-257a-468a-9e63-4b23d6cd4a01",
   "metadata": {},
   "source": [
    "#### Adding Nodes to the Graph  "
   ]
  },
  {
   "cell_type": "code",
   "execution_count": null,
   "id": "bdcf7387-7997-485d-ad6d-27beacb3d8b8",
   "metadata": {},
   "outputs": [],
   "source": [
    "workflow.add_node(\"InputNode\", input_node)"
   ]
  },
  {
   "cell_type": "code",
   "execution_count": null,
   "id": "92ed3b22-eb8d-418f-8a49-32b141fb4d7b",
   "metadata": {},
   "outputs": [],
   "source": [
    "workflow.add_node(\"ValidateCredential\", validate_credentials_node)"
   ]
  },
  {
   "cell_type": "code",
   "execution_count": null,
   "id": "b6c3bb0d-3786-4071-8548-fc2eb6c96503",
   "metadata": {},
   "outputs": [],
   "source": [
    "workflow.add_node(\"Success\", success_node)"
   ]
  },
  {
   "cell_type": "code",
   "execution_count": null,
   "id": "9165903f-a4d6-4f69-9221-ef42c6804832",
   "metadata": {},
   "outputs": [],
   "source": [
    "workflow.add_node(\"Failure\", failure_node)"
   ]
  },
  {
   "cell_type": "code",
   "execution_count": null,
   "id": "cb11c961-946d-4121-bd5b-46ea3df0f3f4",
   "metadata": {},
   "outputs": [],
   "source": [
    "workflow.add_edge(\"InputNode\", \"ValidateCredential\")\n"
   ]
  },
  {
   "cell_type": "code",
   "execution_count": null,
   "id": "0011eb06-00dc-4681-83c4-2709a0003f74",
   "metadata": {},
   "outputs": [],
   "source": [
    "workflow.add_edge(\"Success\", END)"
   ]
  },
  {
   "cell_type": "code",
   "execution_count": null,
   "id": "6c06ff4a-a5d6-488a-9e9a-6cce98037b23",
   "metadata": {},
   "outputs": [],
   "source": [
    "workflow.add_edge(\"Failure\", \"InputNode\")"
   ]
  },
  {
   "cell_type": "code",
   "execution_count": null,
   "id": "3c7ebaf8-6ec6-4fa2-aba7-be1edd48db30",
   "metadata": {},
   "outputs": [],
   "source": [
    "workflow.add_conditional_edges(\"ValidateCredential\", router, {\"success_node\": \"Success\", \"failure_node\": \"Failure\"})"
   ]
  },
  {
   "cell_type": "code",
   "execution_count": null,
   "id": "3ae82e7d-4309-4210-9d75-1e1a592f9ef6",
   "metadata": {},
   "outputs": [],
   "source": [
    "workflow.set_entry_point(\"InputNode\")"
   ]
  },
  {
   "cell_type": "markdown",
   "id": "eeeb6c50-4248-4528-a5c8-231b09c242b6",
   "metadata": {},
   "source": [
    "#### Compiling the Workflow  \n"
   ]
  },
  {
   "cell_type": "code",
   "execution_count": null,
   "id": "eab09252-0870-460e-9f5e-d30087321c66",
   "metadata": {},
   "outputs": [],
   "source": [
    "app = workflow.compile()"
   ]
  },
  {
   "cell_type": "markdown",
   "id": "7b500e3c-bc16-4817-abf6-b22747c115f1",
   "metadata": {},
   "source": [
    "\n",
    "#### Running the Application  \n",
    "\n",
    "Once the workflow is compiled, we can run it by invoking the application with the required inputs. The `invoke` method takes an initial state (a dictionary of input values) and starts execution from the entry point defined in the workflow.\n",
    "\n",
    "<p style='color: red'><b>Note:</b> The correct password is <code>secure_password</code>, so make sure to enter that to authenticate successfully.</p>\n"
   ]
  },
  {
   "cell_type": "code",
   "execution_count": null,
   "id": "be497559-9607-451a-8d18-2b018ecfe61a",
   "metadata": {},
   "outputs": [],
   "source": [
    "inputs = {\"username\": \"test_user\"}\n",
    "result = app.invoke(inputs)\n",
    "print(result)"
   ]
  },
  {
   "cell_type": "markdown",
   "id": "e0c40f0a-d79e-44b9-b45d-5f14f805fa50",
   "metadata": {},
   "source": [
    "### **Building a QA Workflow Specific to the Guided Project**"
   ]
  },
  {
   "cell_type": "code",
   "execution_count": null,
   "id": "6236394f-65c8-4ce6-a9b4-3efcb76392b5",
   "metadata": {},
   "outputs": [],
   "source": [
    "# Define the structure of the QA state\n",
    "class QAState(TypedDict):\n",
    "    # 'question' stores the user's input question. It can be a string or None if not provided.\n",
    "    question: Optional[str]\n",
    "\n",
    "    # 'context' stores relevant context about the guided project, if the question pertains to it.\n",
    "    # If the question isn't related to the project, this will be None.\n",
    "    context: Optional[str]\n",
    "\n",
    "    # 'answer' stores the generated response or answer. It can be None until the answer is generated.\n",
    "    answer: Optional[str]"
   ]
  },
  {
   "cell_type": "code",
   "execution_count": null,
   "id": "86db7fe8-dbc9-47c2-a7bd-0be245ac1a16",
   "metadata": {},
   "outputs": [],
   "source": [
    "# Create an example object\n",
    "qa_state_example = QAState(\n",
    "    question=\"What is the purpose of this guided project?\",\n",
    "    context=\"This project focuses on building a chatbot using Python.\",\n",
    "    answer=None\n",
    ")\n",
    "\n",
    "# Print the attributes\n",
    "for key, value in qa_state_example.items():\n",
    "    print(f\"{key}: {value}\")"
   ]
  },
  {
   "cell_type": "code",
   "execution_count": null,
   "id": "3ed09800-ffed-42fc-945b-3e1f3a903c12",
   "metadata": {},
   "outputs": [],
   "source": [
    "def input_validation_node(state):\n",
    "    # Extract the question from the state, and strip any leading or trailing spaces\n",
    "    question = state.get(\"question\", \"\").strip()\n",
    "\n",
    "    # If the question is empty, return an error message indicating invalid input\n",
    "    if not question:\n",
    "        return {\"valid\": False, \"error\": \"Question cannot be empty.\"}\n",
    "\n",
    "    # If the question is valid, return valid status\n",
    "    return {\"valid\": True}"
   ]
  },
  {
   "cell_type": "code",
   "execution_count": null,
   "id": "871a80a0-8774-444d-9fc4-fe562478d2e8",
   "metadata": {},
   "outputs": [],
   "source": [
    "def context_provider_node(state):\n",
    "    question = state.get(\"question\", \"\").lower()\n",
    "    # Check if the question is related to the guided project\n",
    "    if \"langgraph\" in question or \"guided project\" in question:\n",
    "        context = (\n",
    "            \"This guided project is about using LangGraph, a Python library to design state-based workflows. \"\n",
    "            \"LangGraph simplifies building complex applications by connecting modular nodes with conditional edges.\"\n",
    "        )\n",
    "        return {\"context\": context}\n",
    "    # If unrelated, set context to null\n",
    "    return {\"context\": None}"
   ]
  },
  {
   "cell_type": "code",
   "execution_count": null,
   "id": "875e4f69-b8fe-4075-9f23-3cb1f37e9726",
   "metadata": {},
   "outputs": [],
   "source": [
    "from langchain_ibm import ChatWatsonx\n",
    "\n",
    "llm = ChatWatsonx(\n",
    "    model_id=\"ibm/granite-3-3-8b-instruct\",\n",
    "    url=\"https://us-south.ml.cloud.ibm.com\",\n",
    "    project_id=\"skills-network\",\n",
    ")"
   ]
  },
  {
   "cell_type": "code",
   "execution_count": null,
   "id": "b822c464-2dd3-44ff-85a4-d3007bef59a8",
   "metadata": {},
   "outputs": [],
   "source": [
    "def llm_qa_node(state):\n",
    "    # Extract the question and context from the state\n",
    "    question = state.get(\"question\", \"\")\n",
    "    context = state.get(\"context\", None)\n",
    "\n",
    "    # Check for missing context and return a fallback response\n",
    "    if not context:\n",
    "        return {\"answer\": \"I don't have enough context to answer your question.\"}\n",
    "\n",
    "    # Construct the prompt dynamically\n",
    "    prompt = f\"Context: {context}\\nQuestion: {question}\\nAnswer the question based on the provided context.\"\n",
    "\n",
    "    # Use LangChain's ChatOpenAI to get the response\n",
    "    try:\n",
    "        response = llm.invoke(prompt)\n",
    "        return {\"answer\": response.content.strip()}\n",
    "    except Exception as e:\n",
    "        return {\"answer\": f\"An error occurred: {str(e)}\"}"
   ]
  },
  {
   "cell_type": "markdown",
   "id": "aef3f7c0-cf07-413b-baea-9c854b8cf633",
   "metadata": {},
   "source": [
    "#### **Creating the QA Workflow Graph**  \n"
   ]
  },
  {
   "cell_type": "code",
   "execution_count": null,
   "id": "deff48d1-72ed-40bf-b3ed-6176394741ae",
   "metadata": {},
   "outputs": [],
   "source": [
    "qa_workflow = StateGraph(QAState)"
   ]
  },
  {
   "cell_type": "code",
   "execution_count": null,
   "id": "81e9e481-bb53-44c9-850b-76ae49a22b38",
   "metadata": {},
   "outputs": [],
   "source": [
    "qa_workflow.add_node(\"InputNode\", input_validation_node)"
   ]
  },
  {
   "cell_type": "code",
   "execution_count": null,
   "id": "8a885cfe-654c-4f3e-abc5-907b75596549",
   "metadata": {},
   "outputs": [],
   "source": [
    "qa_workflow.add_node(\"ContextNode\", context_provider_node)"
   ]
  },
  {
   "cell_type": "code",
   "execution_count": null,
   "id": "8eb03d0e-79f5-4496-881e-4e9ec8d38d02",
   "metadata": {},
   "outputs": [],
   "source": [
    "qa_workflow.add_node(\"QANode\", llm_qa_node)"
   ]
  },
  {
   "cell_type": "code",
   "execution_count": null,
   "id": "c9508ca4-6452-48c6-8b9e-7f28b68f3cfc",
   "metadata": {},
   "outputs": [],
   "source": [
    "qa_workflow.set_entry_point(\"InputNode\")"
   ]
  },
  {
   "cell_type": "code",
   "execution_count": null,
   "id": "e603612f-0f3c-40f7-b786-bb53ee86d154",
   "metadata": {},
   "outputs": [],
   "source": [
    "qa_workflow.add_edge(\"InputNode\", \"ContextNode\")"
   ]
  },
  {
   "cell_type": "code",
   "execution_count": null,
   "id": "1cf1ef0c-0ed4-4abd-84bf-8c72dd50388d",
   "metadata": {},
   "outputs": [],
   "source": [
    "qa_workflow.add_edge(\"ContextNode\", \"QANode\")"
   ]
  },
  {
   "cell_type": "code",
   "execution_count": null,
   "id": "6dad7a67-1187-4efe-9bbc-7c9aeb353612",
   "metadata": {},
   "outputs": [],
   "source": [
    "qa_workflow.add_edge(\"QANode\", END)"
   ]
  },
  {
   "cell_type": "code",
   "execution_count": null,
   "id": "10ee4f67-831d-4e86-854e-6e3400e910cf",
   "metadata": {},
   "outputs": [],
   "source": [
    "qa_app = qa_workflow.compile()"
   ]
  },
  {
   "cell_type": "code",
   "execution_count": null,
   "id": "45edd8cf-8acf-4a19-bf76-eede24b926b5",
   "metadata": {},
   "outputs": [],
   "source": [
    "qa_app.invoke({\"question\": \"What is the weather today?\"})"
   ]
  },
  {
   "cell_type": "code",
   "execution_count": null,
   "id": "d6e505f4-fb12-4a0f-a451-833cb7980714",
   "metadata": {},
   "outputs": [],
   "source": [
    "qa_app.invoke({\"question\": \"What is LangGraph?\"})"
   ]
  },
  {
   "cell_type": "code",
   "execution_count": null,
   "id": "d73446cc-82e8-44b7-b3b3-cec95f003038",
   "metadata": {},
   "outputs": [],
   "source": [
    "qa_app.invoke({\"question\": \"What is the best guided project?\"})"
   ]
  },
  {
   "cell_type": "markdown",
   "id": "870204d4-566d-4f93-9ee5-fd9f8ef03c2a",
   "metadata": {},
   "source": [
    "## Exercises\n",
    "\n",
    "In this exercise, you are going to create a simple counter using LangGraph.\n"
   ]
  },
  {
   "cell_type": "markdown",
   "id": "f2620dc0-0bfd-4521-a51c-0b06b40d25dd",
   "metadata": {},
   "source": [
    "### Exercise 1 - Define the State type\n",
    "\n",
    "Here, you will define the state schema used by the graph. It should keep track of:\n",
    "- `n`: a counter starting from 1.\n",
    "- `letter`: a randomly generated lowercase letter at each step.\n"
   ]
  },
  {
   "cell_type": "code",
   "execution_count": null,
   "id": "a085e5a1-f225-4168-8c18-5a1831ca49e7",
   "metadata": {},
   "outputs": [],
   "source": [
    "import random\n",
    "import string\n",
    "from typing import TypedDict\n",
    "\n",
    "from langgraph.graph import StateGraph, END"
   ]
  },
  {
   "cell_type": "code",
   "execution_count": null,
   "id": "08e01604-bd72-4068-99a2-a881e49c41e1",
   "metadata": {},
   "outputs": [],
   "source": [
    "class ChainState(TypedDict):\n",
    "  n: int\n",
    "  letter: str"
   ]
  },
  {
   "cell_type": "markdown",
   "id": "fcd842ee-5c5a-4386-ae3f-27a32418d2a8",
   "metadata": {},
   "source": [
    "### Exercise 2 - Create `add()` node Function\n",
    "\n",
    "This node should represent the `increment` step such that:\n",
    "- It adds 1 to the current value of n.\n",
    "- It randomly selects a lowercase letter and updates the letter field.\n"
   ]
  },
  {
   "cell_type": "code",
   "execution_count": null,
   "id": "aff80ebd-b5f8-4082-ad38-1085579e3157",
   "metadata": {},
   "outputs": [],
   "source": [
    "def add(state: ChainState) -> ChainState:\n",
    "  random_letter = random.choice(string.ascii_lowercase)\n",
    "  return {\n",
    "    **state,\n",
    "    \"n\": state[\"n\"] + 1,\n",
    "    \"letter\": random_letter,\n",
    "  }"
   ]
  },
  {
   "cell_type": "markdown",
   "id": "7a9d5a91-34a4-4cee-9c1e-8fe218f78688",
   "metadata": {},
   "source": [
    "### Exercise 3 - Create `print_out()` node Function\n",
    "\n",
    "This node should print the current state such that:\n",
    "- It logs the value of n and the current random letter.\n",
    "- The state is returned.\n"
   ]
  },
  {
   "cell_type": "code",
   "execution_count": null,
   "id": "39d4aa60-9978-4853-92fc-2236afa0540c",
   "metadata": {},
   "outputs": [],
   "source": [
    "def print_out(state: ChainState) -> ChainState:\n",
    "  print(\"Current n:\", state[\"n\"], \"Letter:\", state[\"letter\"])\n",
    "  return state"
   ]
  },
  {
   "cell_type": "markdown",
   "id": "1fd8c4b9-5daa-4eb6-bbbc-63284e3bc684",
   "metadata": {},
   "source": [
    "### Exercise 4 - Stop Condition\n",
    "\n",
    "Create a function that has a termination condition:\n",
    "- If the counter reaches 13 or more, the workflow should end.\n",
    "- Otherwise, it should loop back to add node.\n"
   ]
  },
  {
   "cell_type": "code",
   "execution_count": null,
   "id": "ed9a54b4-f61f-4955-8e03-e0490ab4bd3c",
   "metadata": {},
   "outputs": [],
   "source": [
    "def stop_condition(state: ChainState) -> bool:\n",
    "  return state[\"n\"] >= 13"
   ]
  },
  {
   "cell_type": "markdown",
   "id": "7840aca9-a165-4a17-bf39-298a5405c9d8",
   "metadata": {},
   "source": [
    "### Exercise 5 - Graph Construction\n",
    "\n",
    "In this exercise, you'll build the LangGraph flow:\n",
    "\n",
    "- Create a `StateGraph` object using the `ChainState` that you made.\n",
    "- Add nodes `add` and `print`.\n",
    "- Add an edge between `add` and `print`\n",
    "- Add a conditional edge between `print` and `END` based on `stop_condition`.\n",
    "- Set `add` as entry point of the graph.\n"
   ]
  },
  {
   "cell_type": "code",
   "execution_count": null,
   "id": "b39a14bc-881d-4a96-a14a-34ce0f291151",
   "metadata": {},
   "outputs": [],
   "source": [
    "workflow = StateGraph(ChainState)\n",
    "\n",
    "workflow.add_node(\"add\", add)\n",
    "workflow.add_node(\"print\", print_out)\n",
    "\n",
    "workflow.add_edge(\"add\", \"print\")\n",
    "workflow.add_conditional_edges(\"print\", stop_condition, {\n",
    "    True: END,\n",
    "    False: \"add\",\n",
    "})\n",
    "\n",
    "workflow.set_entry_point(\"add\")"
   ]
  },
  {
   "cell_type": "markdown",
   "id": "a9adc001-9971-4ec3-a68d-5aef9a94f60c",
   "metadata": {},
   "source": [
    "### Exercise 6 - Compile and Run\n",
    "\n",
    "Compile the graph and start execution with the given initial input:\n",
    "- The counter should begin at 1.\n",
    "- Keep letter empty (to be filled in by the add node).\n"
   ]
  },
  {
   "cell_type": "code",
   "execution_count": null,
   "id": "1ee767ba-b38d-49bd-87f4-5bdb5e4f6372",
   "metadata": {},
   "outputs": [],
   "source": [
    "app = workflow.compile()\n",
    "\n",
    "result = app.invoke({\"n\": 1, \"letter\": \"\"})"
   ]
  },
  {
   "cell_type": "markdown",
   "id": "caed4986-f406-41e7-92a8-e61c30bb5c22",
   "metadata": {},
   "source": [
    "Copyright © 2024 IBM Corporation. All rights reserved.\n"
   ]
  }
 ],
 "metadata": {
  "kernelspec": {
   "display_name": "Python 3 (ipykernel)",
   "language": "python",
   "name": "python3"
  },
  "language_info": {
   "codemirror_mode": {
    "name": "ipython",
    "version": 3
   },
   "file_extension": ".py",
   "mimetype": "text/x-python",
   "name": "python",
   "nbconvert_exporter": "python",
   "pygments_lexer": "ipython3",
   "version": "3.12.8"
  },
  "prev_pub_hash": "fb4ae08008613d26c653404f56fb8ca5eaf05d14883bfadd0cb1ee8b04dde74e"
 },
 "nbformat": 4,
 "nbformat_minor": 4
}
